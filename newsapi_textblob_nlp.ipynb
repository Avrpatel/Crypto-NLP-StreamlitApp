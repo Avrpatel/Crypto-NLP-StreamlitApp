{
  "cells": [
    {
      "cell_type": "markdown",
      "metadata": {
        "id": "MBqtIMvPvDmK"
      },
      "source": [
        "# Correlating Returns"
      ]
    },
    {
      "cell_type": "code",
      "source": [
        "!pip install python-dotenv\n",
        "!pip install newsapi-python\n",
        "!pip install -U textblob"
      ],
      "metadata": {
        "colab": {
          "base_uri": "https://localhost:8080/"
        },
        "id": "iStC7ODh5MSt",
        "outputId": "b0e6cec7-7a00-4960-aad9-142dce085269"
      },
      "execution_count": 1,
      "outputs": [
        {
          "output_type": "stream",
          "name": "stdout",
          "text": [
            "Looking in indexes: https://pypi.org/simple, https://us-python.pkg.dev/colab-wheels/public/simple/\n",
            "Collecting python-dotenv\n",
            "  Downloading python_dotenv-0.20.0-py3-none-any.whl (17 kB)\n",
            "Installing collected packages: python-dotenv\n",
            "Successfully installed python-dotenv-0.20.0\n",
            "Looking in indexes: https://pypi.org/simple, https://us-python.pkg.dev/colab-wheels/public/simple/\n",
            "Collecting newsapi-python\n",
            "  Downloading newsapi_python-0.2.6-py2.py3-none-any.whl (7.9 kB)\n",
            "Requirement already satisfied: requests<3.0.0 in /usr/local/lib/python3.7/dist-packages (from newsapi-python) (2.23.0)\n",
            "Requirement already satisfied: idna<3,>=2.5 in /usr/local/lib/python3.7/dist-packages (from requests<3.0.0->newsapi-python) (2.10)\n",
            "Requirement already satisfied: certifi>=2017.4.17 in /usr/local/lib/python3.7/dist-packages (from requests<3.0.0->newsapi-python) (2022.6.15)\n",
            "Requirement already satisfied: chardet<4,>=3.0.2 in /usr/local/lib/python3.7/dist-packages (from requests<3.0.0->newsapi-python) (3.0.4)\n",
            "Requirement already satisfied: urllib3!=1.25.0,!=1.25.1,<1.26,>=1.21.1 in /usr/local/lib/python3.7/dist-packages (from requests<3.0.0->newsapi-python) (1.24.3)\n",
            "Installing collected packages: newsapi-python\n",
            "Successfully installed newsapi-python-0.2.6\n",
            "Looking in indexes: https://pypi.org/simple, https://us-python.pkg.dev/colab-wheels/public/simple/\n",
            "Requirement already satisfied: textblob in /usr/local/lib/python3.7/dist-packages (0.15.3)\n",
            "Collecting textblob\n",
            "  Downloading textblob-0.17.1-py2.py3-none-any.whl (636 kB)\n",
            "\u001b[K     |████████████████████████████████| 636 kB 20.4 MB/s \n",
            "\u001b[?25hRequirement already satisfied: nltk>=3.1 in /usr/local/lib/python3.7/dist-packages (from textblob) (3.7)\n",
            "Requirement already satisfied: click in /usr/local/lib/python3.7/dist-packages (from nltk>=3.1->textblob) (7.1.2)\n",
            "Requirement already satisfied: joblib in /usr/local/lib/python3.7/dist-packages (from nltk>=3.1->textblob) (1.1.0)\n",
            "Requirement already satisfied: regex>=2021.8.3 in /usr/local/lib/python3.7/dist-packages (from nltk>=3.1->textblob) (2022.6.2)\n",
            "Requirement already satisfied: tqdm in /usr/local/lib/python3.7/dist-packages (from nltk>=3.1->textblob) (4.64.0)\n",
            "Installing collected packages: textblob\n",
            "  Attempting uninstall: textblob\n",
            "    Found existing installation: textblob 0.15.3\n",
            "    Uninstalling textblob-0.15.3:\n",
            "      Successfully uninstalled textblob-0.15.3\n",
            "Successfully installed textblob-0.17.1\n"
          ]
        }
      ]
    },
    {
      "cell_type": "code",
      "execution_count": 4,
      "metadata": {
        "scrolled": true,
        "id": "4h6qhsUavDmN"
      },
      "outputs": [],
      "source": [
        "import os\n",
        "import pandas as pd\n",
        "from datetime import datetime, timedelta\n",
        "from dotenv import load_dotenv\n",
        "from newsapi.newsapi_client import NewsApiClient\n",
        "from textblob import TextBlob\n",
        "from pathlib import Path"
      ]
    },
    {
      "cell_type": "markdown",
      "metadata": {
        "id": "kZXQReEQvDmP"
      },
      "source": [
        "## Load API Keys from Environment Variables"
      ]
    },
    {
      "cell_type": "code",
      "execution_count": 196,
      "metadata": {
        "id": "8gRQPtsAvDmP"
      },
      "outputs": [],
      "source": [
        "# Load .env enviroment variables\n",
        "load_dotenv()\n",
        "\n",
        "# Set News API Key\n",
        "newsapi = NewsApiClient(api_key=os.environ[\"christine_news_api\"])\n"
      ]
    },
    {
      "cell_type": "code",
      "source": [
        "current_date = pd.Timestamp(datetime.now(), tz=\"America/New_York\").isoformat()\n",
        "past_date = pd.Timestamp(datetime.now()- timedelta(days=31), tz=\"America/New_York\").isoformat()"
      ],
      "metadata": {
        "id": "X0wQW2XL8JfA"
      },
      "execution_count": 197,
      "outputs": []
    },
    {
      "cell_type": "markdown",
      "metadata": {
        "id": "TVKeprA7vDmQ"
      },
      "source": [
        "## News API\n",
        "  "
      ]
    },
    {
      "cell_type": "code",
      "execution_count": 198,
      "metadata": {
        "id": "SonjkZZZvDmU"
      },
      "outputs": [],
      "source": [
        "# Use newsapi client to get most relevant 10 headlines per day in the past month\n",
        "def get_headlines(keyword):\n",
        "    all_headlines = []\n",
        "    all_dates = []    \n",
        "    date = datetime.strptime(current_date[:10], \"%Y-%m-%d\")\n",
        "    end_date = datetime.strptime(past_date[:10], \"%Y-%m-%d\")\n",
        "    print(f\"Fetching news about '{keyword}'\")\n",
        "    print(\"*\" * 30)\n",
        "    while date > end_date:\n",
        "        print(f\"retrieving news from: {date}\")\n",
        "        articles = newsapi.get_everything(\n",
        "            q=keyword,\n",
        "            from_param=str(date)[:10],\n",
        "            to=str(date)[:10],\n",
        "            language=\"en\",\n",
        "            sort_by=\"relevancy\",\n",
        "            page_size= 10,\n",
        "            page=1\n",
        "        )\n",
        "        headlines = []\n",
        "        for i in range(0, len(articles[\"articles\"])):\n",
        "            headlines.append(articles[\"articles\"][i][\"title\"])\n",
        "        all_headlines.append(headlines)\n",
        "        all_dates.append(date)\n",
        "        date = date - timedelta(days=1)\n",
        "    return all_headlines, all_dates"
      ]
    },
    {
      "cell_type": "markdown",
      "metadata": {
        "id": "vk0HnaPbvDmV"
      },
      "source": [
        "Note: Be aware that running the 3 requests below will only work once within a 24 hour period due to the request limits imposed by the API provider."
      ]
    },
    {
      "cell_type": "code",
      "execution_count": 199,
      "metadata": {
        "colab": {
          "base_uri": "https://localhost:8080/"
        },
        "id": "WqQYeknxvDmW",
        "outputId": "620c24c1-5a21-42cc-d450-10d08e9c1d88"
      },
      "outputs": [
        {
          "output_type": "stream",
          "name": "stdout",
          "text": [
            "Fetching news about 'Binance USD'\n",
            "******************************\n",
            "retrieving news from: 2022-08-01 00:00:00\n",
            "retrieving news from: 2022-07-31 00:00:00\n",
            "retrieving news from: 2022-07-30 00:00:00\n",
            "retrieving news from: 2022-07-29 00:00:00\n",
            "retrieving news from: 2022-07-28 00:00:00\n",
            "retrieving news from: 2022-07-27 00:00:00\n",
            "retrieving news from: 2022-07-26 00:00:00\n",
            "retrieving news from: 2022-07-25 00:00:00\n",
            "retrieving news from: 2022-07-24 00:00:00\n",
            "retrieving news from: 2022-07-23 00:00:00\n",
            "retrieving news from: 2022-07-22 00:00:00\n",
            "retrieving news from: 2022-07-21 00:00:00\n",
            "retrieving news from: 2022-07-20 00:00:00\n",
            "retrieving news from: 2022-07-19 00:00:00\n",
            "retrieving news from: 2022-07-18 00:00:00\n",
            "retrieving news from: 2022-07-17 00:00:00\n",
            "retrieving news from: 2022-07-16 00:00:00\n",
            "retrieving news from: 2022-07-15 00:00:00\n",
            "retrieving news from: 2022-07-14 00:00:00\n",
            "retrieving news from: 2022-07-13 00:00:00\n",
            "retrieving news from: 2022-07-12 00:00:00\n",
            "retrieving news from: 2022-07-11 00:00:00\n",
            "retrieving news from: 2022-07-10 00:00:00\n",
            "retrieving news from: 2022-07-09 00:00:00\n",
            "retrieving news from: 2022-07-08 00:00:00\n",
            "retrieving news from: 2022-07-07 00:00:00\n",
            "retrieving news from: 2022-07-06 00:00:00\n",
            "retrieving news from: 2022-07-05 00:00:00\n",
            "retrieving news from: 2022-07-04 00:00:00\n",
            "retrieving news from: 2022-07-03 00:00:00\n",
            "retrieving news from: 2022-07-02 00:00:00\n"
          ]
        }
      ],
      "source": [
        "# Get first topic\n",
        "busd_headlines, dates = get_headlines(\"Binance USD\")\n"
      ]
    },
    {
      "cell_type": "code",
      "source": [
        "# Create Dataframe for news articles\n",
        "busd_df = pd.DataFrame(\n",
        "    {\n",
        "        \"busd_headlines\": busd_headlines,\n",
        "})\n",
        "busd_df.index = pd.to_datetime(dates)"
      ],
      "metadata": {
        "id": "4Yr7GqeDQRRF"
      },
      "execution_count": 200,
      "outputs": []
    },
    {
      "cell_type": "code",
      "source": [
        "# Write articles to csv file \n",
        "busd_path = Path('busd.csv')\n",
        "busd_path.parent.mkdir(parents=True, exist_ok=True)\n",
        "busd_df.to_csv(busd_path)"
      ],
      "metadata": {
        "id": "syb9RYb8QROL"
      },
      "execution_count": 201,
      "outputs": []
    },
    {
      "cell_type": "code",
      "source": [
        ""
      ],
      "metadata": {
        "id": "JQWqTwCcyWtw"
      },
      "execution_count": null,
      "outputs": []
    },
    {
      "cell_type": "code",
      "execution_count": 172,
      "metadata": {
        "id": "L_EGLeq4vDmY"
      },
      "outputs": [],
      "source": [
        "# Create function that computes average compound sentiment of headlines for each day\n",
        "def headline_sentiment_summarizer_avg(headlines):\n",
        "    sentiment = []\n",
        "    for day in headlines:\n",
        "        day_score = []\n",
        "        for h in day:\n",
        "            if h == None:\n",
        "                continue\n",
        "            else:\n",
        "                tb = TextBlob(h)\n",
        "                day_score.append(tb.sentiment.polarity)\n",
        "        sentiment.append(sum(day_score) / len(day_score))\n",
        "    return sentiment"
      ]
    },
    {
      "cell_type": "code",
      "execution_count": 173,
      "metadata": {
        "id": "Q3GkVYjTvDmY"
      },
      "outputs": [],
      "source": [
        "# Get averages of each topics sentiment\n",
        "btc_avg = headline_sentiment_summarizer_avg(btc_headlines)\n",
        "# eth_avg = headline_sentiment_summarizer_avg(eth_headlines)\n",
        "# busd_avg = headline_sentiment_summarizer_avg(busd_headlines)\n"
      ]
    },
    {
      "cell_type": "code",
      "source": [
        "btc_avg"
      ],
      "metadata": {
        "colab": {
          "base_uri": "https://localhost:8080/"
        },
        "id": "mrT1W7f6JxSJ",
        "outputId": "80467fa8-3bff-4a1d-9ce4-98ff67f03807"
      },
      "execution_count": 174,
      "outputs": [
        {
          "output_type": "execute_result",
          "data": {
            "text/plain": [
              "[0.07366666666666669,\n",
              " 0.08249999999999999,\n",
              " 0.033148148148148156,\n",
              " -0.005176767676767682,\n",
              " 0.024444444444444453,\n",
              " 0.004999999999999999,\n",
              " 0.04271335807050093,\n",
              " 0.046666666666666655,\n",
              " 0.11444444444444443,\n",
              " 0.049444444444444444,\n",
              " -0.018888888888888893,\n",
              " 0.03277777777777778,\n",
              " -0.04416666666666665,\n",
              " 0.05583333333333333,\n",
              " 0.039999999999999994,\n",
              " 0.07944444444444443,\n",
              " 0.07666666666666667,\n",
              " 0.014913419913419906,\n",
              " 0.023333333333333338,\n",
              " 0.05319444444444445,\n",
              " -0.0375,\n",
              " 0.08983766233766234,\n",
              " 0.017803030303030303,\n",
              " 0.10696969696969698,\n",
              " -0.019166666666666672,\n",
              " 0.039444444444444435,\n",
              " -0.13462752525252525,\n",
              " -0.0019886363636363647,\n",
              " 0.012045454545454548,\n",
              " 0.13666666666666666,\n",
              " 0.02666666666666666]"
            ]
          },
          "metadata": {},
          "execution_count": 174
        }
      ]
    },
    {
      "cell_type": "code",
      "execution_count": 175,
      "metadata": {
        "id": "WufWTwkzvDmZ"
      },
      "outputs": [],
      "source": [
        "# Combine Sentiment Averages into DataFrame\n",
        "topic_sentiments = pd.DataFrame(\n",
        "    {\n",
        "        \"btc_avg\": btc_avg,\n",
        "        # \"busd_avg\": busd_avg\n",
        "    }\n",
        ")"
      ]
    },
    {
      "cell_type": "code",
      "execution_count": 176,
      "metadata": {
        "scrolled": true,
        "id": "lopR7JXEvDma"
      },
      "outputs": [],
      "source": [
        "# Set the index value of the sentiment averages DataFrame to be the series of dates.\n",
        "topic_sentiments.index = pd.to_datetime(dates)"
      ]
    },
    {
      "cell_type": "code",
      "source": [
        "topic_sentiments"
      ],
      "metadata": {
        "colab": {
          "base_uri": "https://localhost:8080/",
          "height": 1000
        },
        "id": "IRXpy9XAAar4",
        "outputId": "d8978645-12ed-4696-8e25-72b604b7f6c8"
      },
      "execution_count": 177,
      "outputs": [
        {
          "output_type": "execute_result",
          "data": {
            "text/plain": [
              "             btc_avg\n",
              "2022-08-01  0.073667\n",
              "2022-07-31  0.082500\n",
              "2022-07-30  0.033148\n",
              "2022-07-29 -0.005177\n",
              "2022-07-28  0.024444\n",
              "2022-07-27  0.005000\n",
              "2022-07-26  0.042713\n",
              "2022-07-25  0.046667\n",
              "2022-07-24  0.114444\n",
              "2022-07-23  0.049444\n",
              "2022-07-22 -0.018889\n",
              "2022-07-21  0.032778\n",
              "2022-07-20 -0.044167\n",
              "2022-07-19  0.055833\n",
              "2022-07-18  0.040000\n",
              "2022-07-17  0.079444\n",
              "2022-07-16  0.076667\n",
              "2022-07-15  0.014913\n",
              "2022-07-14  0.023333\n",
              "2022-07-13  0.053194\n",
              "2022-07-12 -0.037500\n",
              "2022-07-11  0.089838\n",
              "2022-07-10  0.017803\n",
              "2022-07-09  0.106970\n",
              "2022-07-08 -0.019167\n",
              "2022-07-07  0.039444\n",
              "2022-07-06 -0.134628\n",
              "2022-07-05 -0.001989\n",
              "2022-07-04  0.012045\n",
              "2022-07-03  0.136667\n",
              "2022-07-02  0.026667"
            ],
            "text/html": [
              "\n",
              "  <div id=\"df-756c93be-331b-4de5-a7a9-a03374791d32\">\n",
              "    <div class=\"colab-df-container\">\n",
              "      <div>\n",
              "<style scoped>\n",
              "    .dataframe tbody tr th:only-of-type {\n",
              "        vertical-align: middle;\n",
              "    }\n",
              "\n",
              "    .dataframe tbody tr th {\n",
              "        vertical-align: top;\n",
              "    }\n",
              "\n",
              "    .dataframe thead th {\n",
              "        text-align: right;\n",
              "    }\n",
              "</style>\n",
              "<table border=\"1\" class=\"dataframe\">\n",
              "  <thead>\n",
              "    <tr style=\"text-align: right;\">\n",
              "      <th></th>\n",
              "      <th>btc_avg</th>\n",
              "    </tr>\n",
              "  </thead>\n",
              "  <tbody>\n",
              "    <tr>\n",
              "      <th>2022-08-01</th>\n",
              "      <td>0.073667</td>\n",
              "    </tr>\n",
              "    <tr>\n",
              "      <th>2022-07-31</th>\n",
              "      <td>0.082500</td>\n",
              "    </tr>\n",
              "    <tr>\n",
              "      <th>2022-07-30</th>\n",
              "      <td>0.033148</td>\n",
              "    </tr>\n",
              "    <tr>\n",
              "      <th>2022-07-29</th>\n",
              "      <td>-0.005177</td>\n",
              "    </tr>\n",
              "    <tr>\n",
              "      <th>2022-07-28</th>\n",
              "      <td>0.024444</td>\n",
              "    </tr>\n",
              "    <tr>\n",
              "      <th>2022-07-27</th>\n",
              "      <td>0.005000</td>\n",
              "    </tr>\n",
              "    <tr>\n",
              "      <th>2022-07-26</th>\n",
              "      <td>0.042713</td>\n",
              "    </tr>\n",
              "    <tr>\n",
              "      <th>2022-07-25</th>\n",
              "      <td>0.046667</td>\n",
              "    </tr>\n",
              "    <tr>\n",
              "      <th>2022-07-24</th>\n",
              "      <td>0.114444</td>\n",
              "    </tr>\n",
              "    <tr>\n",
              "      <th>2022-07-23</th>\n",
              "      <td>0.049444</td>\n",
              "    </tr>\n",
              "    <tr>\n",
              "      <th>2022-07-22</th>\n",
              "      <td>-0.018889</td>\n",
              "    </tr>\n",
              "    <tr>\n",
              "      <th>2022-07-21</th>\n",
              "      <td>0.032778</td>\n",
              "    </tr>\n",
              "    <tr>\n",
              "      <th>2022-07-20</th>\n",
              "      <td>-0.044167</td>\n",
              "    </tr>\n",
              "    <tr>\n",
              "      <th>2022-07-19</th>\n",
              "      <td>0.055833</td>\n",
              "    </tr>\n",
              "    <tr>\n",
              "      <th>2022-07-18</th>\n",
              "      <td>0.040000</td>\n",
              "    </tr>\n",
              "    <tr>\n",
              "      <th>2022-07-17</th>\n",
              "      <td>0.079444</td>\n",
              "    </tr>\n",
              "    <tr>\n",
              "      <th>2022-07-16</th>\n",
              "      <td>0.076667</td>\n",
              "    </tr>\n",
              "    <tr>\n",
              "      <th>2022-07-15</th>\n",
              "      <td>0.014913</td>\n",
              "    </tr>\n",
              "    <tr>\n",
              "      <th>2022-07-14</th>\n",
              "      <td>0.023333</td>\n",
              "    </tr>\n",
              "    <tr>\n",
              "      <th>2022-07-13</th>\n",
              "      <td>0.053194</td>\n",
              "    </tr>\n",
              "    <tr>\n",
              "      <th>2022-07-12</th>\n",
              "      <td>-0.037500</td>\n",
              "    </tr>\n",
              "    <tr>\n",
              "      <th>2022-07-11</th>\n",
              "      <td>0.089838</td>\n",
              "    </tr>\n",
              "    <tr>\n",
              "      <th>2022-07-10</th>\n",
              "      <td>0.017803</td>\n",
              "    </tr>\n",
              "    <tr>\n",
              "      <th>2022-07-09</th>\n",
              "      <td>0.106970</td>\n",
              "    </tr>\n",
              "    <tr>\n",
              "      <th>2022-07-08</th>\n",
              "      <td>-0.019167</td>\n",
              "    </tr>\n",
              "    <tr>\n",
              "      <th>2022-07-07</th>\n",
              "      <td>0.039444</td>\n",
              "    </tr>\n",
              "    <tr>\n",
              "      <th>2022-07-06</th>\n",
              "      <td>-0.134628</td>\n",
              "    </tr>\n",
              "    <tr>\n",
              "      <th>2022-07-05</th>\n",
              "      <td>-0.001989</td>\n",
              "    </tr>\n",
              "    <tr>\n",
              "      <th>2022-07-04</th>\n",
              "      <td>0.012045</td>\n",
              "    </tr>\n",
              "    <tr>\n",
              "      <th>2022-07-03</th>\n",
              "      <td>0.136667</td>\n",
              "    </tr>\n",
              "    <tr>\n",
              "      <th>2022-07-02</th>\n",
              "      <td>0.026667</td>\n",
              "    </tr>\n",
              "  </tbody>\n",
              "</table>\n",
              "</div>\n",
              "      <button class=\"colab-df-convert\" onclick=\"convertToInteractive('df-756c93be-331b-4de5-a7a9-a03374791d32')\"\n",
              "              title=\"Convert this dataframe to an interactive table.\"\n",
              "              style=\"display:none;\">\n",
              "        \n",
              "  <svg xmlns=\"http://www.w3.org/2000/svg\" height=\"24px\"viewBox=\"0 0 24 24\"\n",
              "       width=\"24px\">\n",
              "    <path d=\"M0 0h24v24H0V0z\" fill=\"none\"/>\n",
              "    <path d=\"M18.56 5.44l.94 2.06.94-2.06 2.06-.94-2.06-.94-.94-2.06-.94 2.06-2.06.94zm-11 1L8.5 8.5l.94-2.06 2.06-.94-2.06-.94L8.5 2.5l-.94 2.06-2.06.94zm10 10l.94 2.06.94-2.06 2.06-.94-2.06-.94-.94-2.06-.94 2.06-2.06.94z\"/><path d=\"M17.41 7.96l-1.37-1.37c-.4-.4-.92-.59-1.43-.59-.52 0-1.04.2-1.43.59L10.3 9.45l-7.72 7.72c-.78.78-.78 2.05 0 2.83L4 21.41c.39.39.9.59 1.41.59.51 0 1.02-.2 1.41-.59l7.78-7.78 2.81-2.81c.8-.78.8-2.07 0-2.86zM5.41 20L4 18.59l7.72-7.72 1.47 1.35L5.41 20z\"/>\n",
              "  </svg>\n",
              "      </button>\n",
              "      \n",
              "  <style>\n",
              "    .colab-df-container {\n",
              "      display:flex;\n",
              "      flex-wrap:wrap;\n",
              "      gap: 12px;\n",
              "    }\n",
              "\n",
              "    .colab-df-convert {\n",
              "      background-color: #E8F0FE;\n",
              "      border: none;\n",
              "      border-radius: 50%;\n",
              "      cursor: pointer;\n",
              "      display: none;\n",
              "      fill: #1967D2;\n",
              "      height: 32px;\n",
              "      padding: 0 0 0 0;\n",
              "      width: 32px;\n",
              "    }\n",
              "\n",
              "    .colab-df-convert:hover {\n",
              "      background-color: #E2EBFA;\n",
              "      box-shadow: 0px 1px 2px rgba(60, 64, 67, 0.3), 0px 1px 3px 1px rgba(60, 64, 67, 0.15);\n",
              "      fill: #174EA6;\n",
              "    }\n",
              "\n",
              "    [theme=dark] .colab-df-convert {\n",
              "      background-color: #3B4455;\n",
              "      fill: #D2E3FC;\n",
              "    }\n",
              "\n",
              "    [theme=dark] .colab-df-convert:hover {\n",
              "      background-color: #434B5C;\n",
              "      box-shadow: 0px 1px 3px 1px rgba(0, 0, 0, 0.15);\n",
              "      filter: drop-shadow(0px 1px 2px rgba(0, 0, 0, 0.3));\n",
              "      fill: #FFFFFF;\n",
              "    }\n",
              "  </style>\n",
              "\n",
              "      <script>\n",
              "        const buttonEl =\n",
              "          document.querySelector('#df-756c93be-331b-4de5-a7a9-a03374791d32 button.colab-df-convert');\n",
              "        buttonEl.style.display =\n",
              "          google.colab.kernel.accessAllowed ? 'block' : 'none';\n",
              "\n",
              "        async function convertToInteractive(key) {\n",
              "          const element = document.querySelector('#df-756c93be-331b-4de5-a7a9-a03374791d32');\n",
              "          const dataTable =\n",
              "            await google.colab.kernel.invokeFunction('convertToInteractive',\n",
              "                                                     [key], {});\n",
              "          if (!dataTable) return;\n",
              "\n",
              "          const docLinkHtml = 'Like what you see? Visit the ' +\n",
              "            '<a target=\"_blank\" href=https://colab.research.google.com/notebooks/data_table.ipynb>data table notebook</a>'\n",
              "            + ' to learn more about interactive tables.';\n",
              "          element.innerHTML = '';\n",
              "          dataTable['output_type'] = 'display_data';\n",
              "          await google.colab.output.renderOutput(dataTable, element);\n",
              "          const docLink = document.createElement('div');\n",
              "          docLink.innerHTML = docLinkHtml;\n",
              "          element.appendChild(docLink);\n",
              "        }\n",
              "      </script>\n",
              "    </div>\n",
              "  </div>\n",
              "  "
            ]
          },
          "metadata": {},
          "execution_count": 177
        }
      ]
    },
    {
      "cell_type": "code",
      "execution_count": null,
      "metadata": {
        "id": "JZ5f4poVvDma"
      },
      "outputs": [],
      "source": [
        "# # Merge with AAPL returns\n",
        "# topic_sentiments = aapl_returns.join(topic_sentiments).dropna(how=\"any\")\n",
        "\n",
        "# # Display data\n",
        "# display(topic_sentiments)"
      ]
    },
    {
      "cell_type": "code",
      "execution_count": 178,
      "metadata": {
        "id": "9WLAy0nJvDmb",
        "outputId": "a415399a-908f-4787-d697-1cccbf000ea7",
        "colab": {
          "base_uri": "https://localhost:8080/",
          "height": 81
        }
      },
      "outputs": [
        {
          "output_type": "execute_result",
          "data": {
            "text/plain": [
              "<pandas.io.formats.style.Styler at 0x7f5da13fc810>"
            ],
            "text/html": [
              "<style type=\"text/css\">\n",
              "#T_31566_row0_col0 {\n",
              "  background-color: #fff7fb;\n",
              "  color: #000000;\n",
              "}\n",
              "</style>\n",
              "<table id=\"T_31566_\" class=\"dataframe\">\n",
              "  <thead>\n",
              "    <tr>\n",
              "      <th class=\"blank level0\" >&nbsp;</th>\n",
              "      <th class=\"col_heading level0 col0\" >btc_avg</th>\n",
              "    </tr>\n",
              "  </thead>\n",
              "  <tbody>\n",
              "    <tr>\n",
              "      <th id=\"T_31566_level0_row0\" class=\"row_heading level0 row0\" >btc_avg</th>\n",
              "      <td id=\"T_31566_row0_col0\" class=\"data row0 col0\" >1.000000</td>\n",
              "    </tr>\n",
              "  </tbody>\n",
              "</table>\n"
            ]
          },
          "metadata": {},
          "execution_count": 178
        }
      ],
      "source": [
        "# Correlate the headlines' sentiment to returns\n",
        "topic_sentiments.corr().style.background_gradient()"
      ]
    },
    {
      "cell_type": "code",
      "execution_count": null,
      "metadata": {
        "id": "RQmbcESnvDmc"
      },
      "outputs": [],
      "source": [
        ""
      ]
    }
  ],
  "metadata": {
    "file_extension": ".py",
    "kernelspec": {
      "display_name": "Python 3",
      "language": "python",
      "name": "python3"
    },
    "language_info": {
      "codemirror_mode": {
        "name": "ipython",
        "version": 3
      },
      "file_extension": ".py",
      "mimetype": "text/x-python",
      "name": "python",
      "nbconvert_exporter": "python",
      "pygments_lexer": "ipython3",
      "version": "3.7.13"
    },
    "mimetype": "text/x-python",
    "name": "python",
    "npconvert_exporter": "python",
    "pygments_lexer": "ipython3",
    "version": 3,
    "colab": {
      "name": "newsapi_textblob_nlp.ipynb",
      "provenance": []
    }
  },
  "nbformat": 4,
  "nbformat_minor": 0
}